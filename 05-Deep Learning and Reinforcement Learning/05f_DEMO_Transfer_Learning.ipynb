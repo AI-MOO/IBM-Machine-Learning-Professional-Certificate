{
 "cells": [
  {
   "cell_type": "markdown",
   "metadata": {
    "run_control": {
     "marked": true
    }
   },
   "source": [
    "# Machine Learning Foundation\n",
    "\n",
    "## Course 5, Part g: Transfer Learning DEMO"
   ]
  },
  {
   "cell_type": "markdown",
   "metadata": {},
   "source": [
    "For this exercise, we will use the well-known MNIST digit data. To illustrate the power and concept of transfer learning, we will train a CNN on just the digits 5,6,7,8,9.  Then we will train just the last layer(s) of the network on the digits 0,1,2,3,4 and see how well the features learned on 5-9 help with classifying 0-4.\n",
    "\n",
    "Adapted from https://github.com/fchollet/keras/blob/master/examples/mnist_transfer_cnn.py"
   ]
  },
  {
   "cell_type": "code",
   "execution_count": 1,
   "metadata": {},
   "outputs": [],
   "source": [
    "# import datetime\n",
    "# import keras\n",
    "# from keras.datasets import mnist\n",
    "# from keras.models import Sequential\n",
    "# from keras.layers import Dense, Dropout, Activation, Flatten\n",
    "# from keras.layers import Conv2D, MaxPooling2D\n",
    "# from keras import backend as K\n",
    "\n",
    "import datetime\n",
    "from tensorflow import keras\n",
    "from tensorflow.keras.datasets import mnist\n",
    "from tensorflow.keras.models import Sequential\n",
    "from tensorflow.keras.layers import Dense, Dropout, Activation, Flatten\n",
    "from tensorflow.keras.layers import Conv2D, MaxPooling2D\n",
    "from tensorflow.keras import backend as K"
   ]
  },
  {
   "cell_type": "code",
   "execution_count": 2,
   "metadata": {},
   "outputs": [
    {
     "data": {
      "text/plain": [
       "datetime.datetime(2022, 4, 2, 9, 10, 6, 410038)"
      ]
     },
     "execution_count": 2,
     "metadata": {},
     "output_type": "execute_result"
    }
   ],
   "source": [
    "#used to help some of the timing functions\n",
    "now = datetime.datetime.now\n",
    "now()"
   ]
  },
  {
   "cell_type": "code",
   "execution_count": 3,
   "metadata": {},
   "outputs": [],
   "source": [
    "# set some parameters\n",
    "batch_size = 128\n",
    "num_classes = 5\n",
    "epochs = 20"
   ]
  },
  {
   "cell_type": "code",
   "execution_count": 4,
   "metadata": {},
   "outputs": [],
   "source": [
    "# set some more parameters\n",
    "img_rows, img_cols = 28, 28\n",
    "filters = 32\n",
    "pool_size = 2\n",
    "kernel_size = 3"
   ]
  },
  {
   "cell_type": "code",
   "execution_count": 5,
   "metadata": {},
   "outputs": [],
   "source": [
    "## This just handles some variability in how the input data is loaded\n",
    "# channels_last\n",
    "if K.image_data_format() == 'channels_first':\n",
    "    input_shape = (1, img_rows, img_cols)\n",
    "else:\n",
    "    input_shape = (img_rows, img_cols, 1)"
   ]
  },
  {
   "cell_type": "code",
   "execution_count": 6,
   "metadata": {},
   "outputs": [],
   "source": [
    "## To simplify things, write a function to include all the training steps\n",
    "## As input, function takes a model, training set, test set, and the number of classes\n",
    "## Inside the model object will be the state about which layers we are freezing and which we are training\n",
    "\n",
    "def train_model(model, train, test, num_classes):\n",
    "    x_train = train[0].reshape((train[0].shape[0],) + input_shape)\n",
    "    x_test = test[0].reshape((test[0].shape[0],) + input_shape)\n",
    "    x_train = x_train.astype('float32')\n",
    "    x_test = x_test.astype('float32')\n",
    "    x_train /= 255\n",
    "    x_test /= 255\n",
    "    print('x_train shape:', x_train.shape)\n",
    "    print(x_train.shape[0], 'train samples')\n",
    "    print(x_test.shape[0], 'test samples')\n",
    "\n",
    "    # convert class vectors to binary class matrices\n",
    "    y_train = keras.utils.to_categorical(train[1], num_classes)\n",
    "    y_test = keras.utils.to_categorical(test[1], num_classes)\n",
    "\n",
    "    model.compile(loss='categorical_crossentropy',\n",
    "                  optimizer='adadelta',\n",
    "                  metrics=['accuracy'])\n",
    "\n",
    "    t = now()\n",
    "    model.fit(x_train, y_train,\n",
    "              batch_size=batch_size,\n",
    "              epochs=epochs,\n",
    "              verbose=1, # shows the steps in every epoch\n",
    "              validation_data=(x_test, y_test))\n",
    "    print('Training time: %s' % (now() - t))\n",
    "\n",
    "    score = model.evaluate(x_test, y_test, verbose=0)\n",
    "    print('Test score:', score[0])\n",
    "    print('Test accuracy:', score[1])"
   ]
  },
  {
   "cell_type": "code",
   "execution_count": 7,
   "metadata": {},
   "outputs": [],
   "source": [
    "# the data, shuffled and split between train and test sets\n",
    "(x_train, y_train), (x_test, y_test) = mnist.load_data()\n",
    "\n",
    "# create two datasets: one with digits below 5 and one with 5 and above\n",
    "x_train_lt5 = x_train[y_train < 5]\n",
    "y_train_lt5 = y_train[y_train < 5]\n",
    "x_test_lt5 = x_test[y_test < 5]\n",
    "y_test_lt5 = y_test[y_test < 5]\n",
    "\n",
    "x_train_gte5 = x_train[y_train >= 5]\n",
    "y_train_gte5 = y_train[y_train >= 5] - 5\n",
    "x_test_gte5 = x_test[y_test >= 5]\n",
    "y_test_gte5 = y_test[y_test >= 5] - 5"
   ]
  },
  {
   "cell_type": "code",
   "execution_count": 8,
   "metadata": {},
   "outputs": [],
   "source": [
    "# Define the \"feature\" layers.  These are the early layers that we expect will \"transfer\"\n",
    "# to a new problem.  We will freeze these layers during the fine-tuning process\n",
    "\n",
    "feature_layers = [\n",
    "    Conv2D(filters, kernel_size,\n",
    "           padding='valid',\n",
    "           input_shape=input_shape),\n",
    "    Activation('relu'),\n",
    "    Conv2D(filters, kernel_size),\n",
    "    Activation('relu'),\n",
    "    MaxPooling2D(pool_size=pool_size),\n",
    "    Dropout(0.25),\n",
    "    Flatten(),\n",
    "]"
   ]
  },
  {
   "cell_type": "code",
   "execution_count": 9,
   "metadata": {},
   "outputs": [],
   "source": [
    "# Define the \"classification\" layers.  These are the later layers that predict the specific classes from the features\n",
    "# learned by the feature layers.  This is the part of the model that needs to be re-trained for a new problem\n",
    "\n",
    "classification_layers = [\n",
    "    Dense(128),\n",
    "    Activation('relu'),\n",
    "    Dropout(0.5),\n",
    "    Dense(num_classes),\n",
    "    Activation('softmax')\n",
    "]"
   ]
  },
  {
   "cell_type": "code",
   "execution_count": 10,
   "metadata": {},
   "outputs": [],
   "source": [
    "# We create our model by combining the two sets of layers as follows\n",
    "model = Sequential(feature_layers + classification_layers)"
   ]
  },
  {
   "cell_type": "code",
   "execution_count": 11,
   "metadata": {},
   "outputs": [
    {
     "name": "stdout",
     "output_type": "stream",
     "text": [
      "Model: \"sequential\"\n",
      "_________________________________________________________________\n",
      "Layer (type)                 Output Shape              Param #   \n",
      "=================================================================\n",
      "conv2d (Conv2D)              (None, 26, 26, 32)        320       \n",
      "_________________________________________________________________\n",
      "activation (Activation)      (None, 26, 26, 32)        0         \n",
      "_________________________________________________________________\n",
      "conv2d_1 (Conv2D)            (None, 24, 24, 32)        9248      \n",
      "_________________________________________________________________\n",
      "activation_1 (Activation)    (None, 24, 24, 32)        0         \n",
      "_________________________________________________________________\n",
      "max_pooling2d (MaxPooling2D) (None, 12, 12, 32)        0         \n",
      "_________________________________________________________________\n",
      "dropout (Dropout)            (None, 12, 12, 32)        0         \n",
      "_________________________________________________________________\n",
      "flatten (Flatten)            (None, 4608)              0         \n",
      "_________________________________________________________________\n",
      "dense (Dense)                (None, 128)               589952    \n",
      "_________________________________________________________________\n",
      "activation_2 (Activation)    (None, 128)               0         \n",
      "_________________________________________________________________\n",
      "dropout_1 (Dropout)          (None, 128)               0         \n",
      "_________________________________________________________________\n",
      "dense_1 (Dense)              (None, 5)                 645       \n",
      "_________________________________________________________________\n",
      "activation_3 (Activation)    (None, 5)                 0         \n",
      "=================================================================\n",
      "Total params: 600,165\n",
      "Trainable params: 600,165\n",
      "Non-trainable params: 0\n",
      "_________________________________________________________________\n"
     ]
    }
   ],
   "source": [
    "# Let's take a look\n",
    "model.summary()"
   ]
  },
  {
   "cell_type": "code",
   "execution_count": 12,
   "metadata": {},
   "outputs": [
    {
     "name": "stdout",
     "output_type": "stream",
     "text": [
      "x_train shape: (29404, 28, 28, 1)\n",
      "29404 train samples\n",
      "4861 test samples\n",
      "Epoch 1/20\n",
      "230/230 [==============================] - 2s 11ms/step - loss: 1.6089 - accuracy: 0.1938 - val_loss: 1.5985 - val_accuracy: 0.2010\n",
      "Epoch 2/20\n",
      "230/230 [==============================] - 2s 10ms/step - loss: 1.5946 - accuracy: 0.2262 - val_loss: 1.5827 - val_accuracy: 0.2080\n",
      "Epoch 3/20\n",
      "230/230 [==============================] - 2s 10ms/step - loss: 1.5789 - accuracy: 0.2632 - val_loss: 1.5660 - val_accuracy: 0.2386\n",
      "Epoch 4/20\n",
      "230/230 [==============================] - 2s 10ms/step - loss: 1.5641 - accuracy: 0.3015 - val_loss: 1.5478 - val_accuracy: 0.3150\n",
      "Epoch 5/20\n",
      "230/230 [==============================] - 2s 10ms/step - loss: 1.5455 - accuracy: 0.3451 - val_loss: 1.5271 - val_accuracy: 0.3993\n",
      "Epoch 6/20\n",
      "230/230 [==============================] - 2s 10ms/step - loss: 1.5247 - accuracy: 0.3966 - val_loss: 1.5030 - val_accuracy: 0.4804\n",
      "Epoch 7/20\n",
      "230/230 [==============================] - 2s 10ms/step - loss: 1.5010 - accuracy: 0.4399 - val_loss: 1.4744 - val_accuracy: 0.5550\n",
      "Epoch 8/20\n",
      "230/230 [==============================] - 2s 10ms/step - loss: 1.4731 - accuracy: 0.4854 - val_loss: 1.4403 - val_accuracy: 0.6223\n",
      "Epoch 9/20\n",
      "230/230 [==============================] - 2s 10ms/step - loss: 1.4407 - accuracy: 0.5260 - val_loss: 1.4006 - val_accuracy: 0.6762\n",
      "Epoch 10/20\n",
      "230/230 [==============================] - 2s 10ms/step - loss: 1.4015 - accuracy: 0.5725 - val_loss: 1.3552 - val_accuracy: 0.7095\n",
      "Epoch 11/20\n",
      "230/230 [==============================] - 2s 10ms/step - loss: 1.3581 - accuracy: 0.6062 - val_loss: 1.3040 - val_accuracy: 0.7412\n",
      "Epoch 12/20\n",
      "230/230 [==============================] - 2s 10ms/step - loss: 1.3071 - accuracy: 0.6386 - val_loss: 1.2463 - val_accuracy: 0.7663\n",
      "Epoch 13/20\n",
      "230/230 [==============================] - 2s 10ms/step - loss: 1.2551 - accuracy: 0.6602 - val_loss: 1.1830 - val_accuracy: 0.7881\n",
      "Epoch 14/20\n",
      "230/230 [==============================] - 2s 10ms/step - loss: 1.1953 - accuracy: 0.6882 - val_loss: 1.1146 - val_accuracy: 0.8107\n",
      "Epoch 15/20\n",
      "230/230 [==============================] - 2s 10ms/step - loss: 1.1343 - accuracy: 0.7057 - val_loss: 1.0433 - val_accuracy: 0.8321\n",
      "Epoch 16/20\n",
      "230/230 [==============================] - 2s 10ms/step - loss: 1.0680 - accuracy: 0.7269 - val_loss: 0.9710 - val_accuracy: 0.8472\n",
      "Epoch 17/20\n",
      "230/230 [==============================] - 2s 10ms/step - loss: 1.0036 - accuracy: 0.7419 - val_loss: 0.9002 - val_accuracy: 0.8583\n",
      "Epoch 18/20\n",
      "230/230 [==============================] - 2s 10ms/step - loss: 0.9458 - accuracy: 0.7545 - val_loss: 0.8329 - val_accuracy: 0.8665\n",
      "Epoch 19/20\n",
      "230/230 [==============================] - 2s 10ms/step - loss: 0.8881 - accuracy: 0.7649 - val_loss: 0.7707 - val_accuracy: 0.8733\n",
      "Epoch 20/20\n",
      "230/230 [==============================] - 2s 10ms/step - loss: 0.8337 - accuracy: 0.7746 - val_loss: 0.7138 - val_accuracy: 0.8755\n",
      "Training time: 0:00:46.711143\n",
      "Test score: 0.7137691974639893\n",
      "Test accuracy: 0.875540018081665\n"
     ]
    }
   ],
   "source": [
    "# Now, let's train our model on the digits 5,6,7,8,9\n",
    "\n",
    "train_model(model,\n",
    "            (x_train_gte5, y_train_gte5),\n",
    "            (x_test_gte5, y_test_gte5), num_classes)"
   ]
  },
  {
   "cell_type": "markdown",
   "metadata": {},
   "source": [
    "### Freezing Layers\n",
    "Keras allows layers to be \"frozen\" during the training process.  That is, some layers would have their weights updated during the training process, while others would not.  This is a core part of transfer learning, the ability to train just the last one or several layers.\n",
    "\n",
    "Note also, that a lot of the training time is spent \"back-propagating\" the gradients back to the first layer.  Therefore, if we only need to compute the gradients back a small number of layers, the training time is much quicker per iteration.  This is in addition to the savings gained by being able to train on a smaller data set."
   ]
  },
  {
   "cell_type": "code",
   "execution_count": 13,
   "metadata": {},
   "outputs": [],
   "source": [
    "# Freeze only the feature layers\n",
    "for l in feature_layers:\n",
    "    l.trainable = False"
   ]
  },
  {
   "cell_type": "markdown",
   "metadata": {},
   "source": [
    "Observe below the differences between the number of *total params*, *trainable params*, and *non-trainable params*."
   ]
  },
  {
   "cell_type": "code",
   "execution_count": 15,
   "metadata": {},
   "outputs": [
    {
     "name": "stdout",
     "output_type": "stream",
     "text": [
      "Model: \"sequential\"\n",
      "_________________________________________________________________\n",
      "Layer (type)                 Output Shape              Param #   \n",
      "=================================================================\n",
      "conv2d (Conv2D)              (None, 26, 26, 32)        320       \n",
      "_________________________________________________________________\n",
      "activation (Activation)      (None, 26, 26, 32)        0         \n",
      "_________________________________________________________________\n",
      "conv2d_1 (Conv2D)            (None, 24, 24, 32)        9248      \n",
      "_________________________________________________________________\n",
      "activation_1 (Activation)    (None, 24, 24, 32)        0         \n",
      "_________________________________________________________________\n",
      "max_pooling2d (MaxPooling2D) (None, 12, 12, 32)        0         \n",
      "_________________________________________________________________\n",
      "dropout (Dropout)            (None, 12, 12, 32)        0         \n",
      "_________________________________________________________________\n",
      "flatten (Flatten)            (None, 4608)              0         \n",
      "_________________________________________________________________\n",
      "dense (Dense)                (None, 128)               589952    \n",
      "_________________________________________________________________\n",
      "activation_2 (Activation)    (None, 128)               0         \n",
      "_________________________________________________________________\n",
      "dropout_1 (Dropout)          (None, 128)               0         \n",
      "_________________________________________________________________\n",
      "dense_1 (Dense)              (None, 5)                 645       \n",
      "_________________________________________________________________\n",
      "activation_3 (Activation)    (None, 5)                 0         \n",
      "=================================================================\n",
      "Total params: 600,165\n",
      "Trainable params: 590,597\n",
      "Non-trainable params: 9,568\n",
      "_________________________________________________________________\n"
     ]
    }
   ],
   "source": [
    "model.summary()"
   ]
  },
  {
   "cell_type": "code",
   "execution_count": 16,
   "metadata": {},
   "outputs": [
    {
     "name": "stdout",
     "output_type": "stream",
     "text": [
      "x_train shape: (30596, 28, 28, 1)\n",
      "30596 train samples\n",
      "5139 test samples\n",
      "Epoch 1/20\n",
      "240/240 [==============================] - 2s 7ms/step - loss: 1.6029 - accuracy: 0.3788 - val_loss: 1.4769 - val_accuracy: 0.4275\n",
      "Epoch 2/20\n",
      "240/240 [==============================] - 1s 6ms/step - loss: 1.4718 - accuracy: 0.4231 - val_loss: 1.3524 - val_accuracy: 0.4721\n",
      "Epoch 3/20\n",
      "240/240 [==============================] - 1s 5ms/step - loss: 1.3625 - accuracy: 0.4641 - val_loss: 1.2444 - val_accuracy: 0.5359\n",
      "Epoch 4/20\n",
      "240/240 [==============================] - 1s 6ms/step - loss: 1.2669 - accuracy: 0.5109 - val_loss: 1.1503 - val_accuracy: 0.5986\n",
      "Epoch 5/20\n",
      "240/240 [==============================] - 1s 6ms/step - loss: 1.1879 - accuracy: 0.5461 - val_loss: 1.0678 - val_accuracy: 0.6632\n",
      "Epoch 6/20\n",
      "240/240 [==============================] - 1s 6ms/step - loss: 1.1088 - accuracy: 0.5984 - val_loss: 0.9925 - val_accuracy: 0.7194\n",
      "Epoch 7/20\n",
      "240/240 [==============================] - 1s 6ms/step - loss: 1.0393 - accuracy: 0.6438 - val_loss: 0.9233 - val_accuracy: 0.7634\n",
      "Epoch 8/20\n",
      "240/240 [==============================] - 1s 5ms/step - loss: 0.9777 - accuracy: 0.6868 - val_loss: 0.8620 - val_accuracy: 0.7949\n",
      "Epoch 9/20\n",
      "240/240 [==============================] - 1s 6ms/step - loss: 0.9217 - accuracy: 0.7233 - val_loss: 0.8059 - val_accuracy: 0.8231\n",
      "Epoch 10/20\n",
      "240/240 [==============================] - 1s 6ms/step - loss: 0.8694 - accuracy: 0.7517 - val_loss: 0.7558 - val_accuracy: 0.8449\n",
      "Epoch 11/20\n",
      "240/240 [==============================] - 1s 6ms/step - loss: 0.8253 - accuracy: 0.7757 - val_loss: 0.7099 - val_accuracy: 0.8618\n",
      "Epoch 12/20\n",
      "240/240 [==============================] - 1s 5ms/step - loss: 0.7819 - accuracy: 0.7963 - val_loss: 0.6691 - val_accuracy: 0.8729\n",
      "Epoch 13/20\n",
      "240/240 [==============================] - 1s 5ms/step - loss: 0.7426 - accuracy: 0.8157 - val_loss: 0.6319 - val_accuracy: 0.8803\n",
      "Epoch 14/20\n",
      "240/240 [==============================] - 1s 6ms/step - loss: 0.7110 - accuracy: 0.8247 - val_loss: 0.5988 - val_accuracy: 0.8877\n",
      "Epoch 15/20\n",
      "240/240 [==============================] - 1s 6ms/step - loss: 0.6783 - accuracy: 0.8354 - val_loss: 0.5680 - val_accuracy: 0.8953\n",
      "Epoch 16/20\n",
      "240/240 [==============================] - 1s 6ms/step - loss: 0.6512 - accuracy: 0.8468 - val_loss: 0.5401 - val_accuracy: 0.8994\n",
      "Epoch 17/20\n",
      "240/240 [==============================] - 1s 5ms/step - loss: 0.6211 - accuracy: 0.8553 - val_loss: 0.5139 - val_accuracy: 0.9041\n",
      "Epoch 18/20\n",
      "240/240 [==============================] - 1s 6ms/step - loss: 0.5982 - accuracy: 0.8624 - val_loss: 0.4904 - val_accuracy: 0.9080\n",
      "Epoch 19/20\n",
      "240/240 [==============================] - 1s 5ms/step - loss: 0.5769 - accuracy: 0.8647 - val_loss: 0.4693 - val_accuracy: 0.9130\n",
      "Epoch 20/20\n",
      "240/240 [==============================] - 1s 6ms/step - loss: 0.5551 - accuracy: 0.8712 - val_loss: 0.4497 - val_accuracy: 0.9163\n",
      "Training time: 0:00:27.131470\n",
      "Test score: 0.4497182071208954\n",
      "Test accuracy: 0.916326105594635\n"
     ]
    }
   ],
   "source": [
    "train_model(model,\n",
    "            (x_train_lt5, y_train_lt5),\n",
    "            (x_test_lt5, y_test_lt5), num_classes)"
   ]
  },
  {
   "cell_type": "markdown",
   "metadata": {},
   "source": [
    "Note that after a single epoch, we are already achieving results on classifying 0-4 that are comparable to those achieved on 5-9 after 5 full epochs.  This despite the fact the we are only \"fine-tuning\" the last layer of the network, and all the early layers have never seen what the digits 0-4 look like.\n",
    "\n",
    "Also, note that even though nearly all (590K/600K) of the *parameters* were trainable, the training time per epoch was still much reduced.  This is because the unfrozen part of the network was very shallow, making backpropagation faster. "
   ]
  },
  {
   "cell_type": "markdown",
   "metadata": {},
   "source": [
    "## Exercise\n",
    "- Now we will write code to reverse this training process.  That is, train on the digits 0-4, then finetune only the last layers on the digits 5-9."
   ]
  },
  {
   "cell_type": "code",
   "execution_count": 17,
   "metadata": {},
   "outputs": [
    {
     "name": "stdout",
     "output_type": "stream",
     "text": [
      "Model: \"sequential_1\"\n",
      "_________________________________________________________________\n",
      "Layer (type)                 Output Shape              Param #   \n",
      "=================================================================\n",
      "conv2d_2 (Conv2D)            (None, 26, 26, 32)        320       \n",
      "_________________________________________________________________\n",
      "activation_4 (Activation)    (None, 26, 26, 32)        0         \n",
      "_________________________________________________________________\n",
      "conv2d_3 (Conv2D)            (None, 24, 24, 32)        9248      \n",
      "_________________________________________________________________\n",
      "activation_5 (Activation)    (None, 24, 24, 32)        0         \n",
      "_________________________________________________________________\n",
      "max_pooling2d_1 (MaxPooling2 (None, 12, 12, 32)        0         \n",
      "_________________________________________________________________\n",
      "dropout_2 (Dropout)          (None, 12, 12, 32)        0         \n",
      "_________________________________________________________________\n",
      "flatten_1 (Flatten)          (None, 4608)              0         \n",
      "_________________________________________________________________\n",
      "dense_2 (Dense)              (None, 128)               589952    \n",
      "_________________________________________________________________\n",
      "activation_6 (Activation)    (None, 128)               0         \n",
      "_________________________________________________________________\n",
      "dropout_3 (Dropout)          (None, 128)               0         \n",
      "_________________________________________________________________\n",
      "dense_3 (Dense)              (None, 5)                 645       \n",
      "_________________________________________________________________\n",
      "activation_7 (Activation)    (None, 5)                 0         \n",
      "=================================================================\n",
      "Total params: 600,165\n",
      "Trainable params: 600,165\n",
      "Non-trainable params: 0\n",
      "_________________________________________________________________\n"
     ]
    }
   ],
   "source": [
    "# Create layers and define the model as above\n",
    "feature_layers2 = [\n",
    "    Conv2D(filters, kernel_size,\n",
    "           padding='valid',\n",
    "           input_shape=input_shape),\n",
    "    Activation('relu'),\n",
    "    Conv2D(filters, kernel_size),\n",
    "    Activation('relu'),\n",
    "    MaxPooling2D(pool_size=pool_size),\n",
    "    Dropout(0.25),\n",
    "    Flatten(),\n",
    "]\n",
    "\n",
    "classification_layers2 = [\n",
    "    Dense(128),\n",
    "    Activation('relu'),\n",
    "    Dropout(0.5),\n",
    "    Dense(num_classes),\n",
    "    Activation('softmax')\n",
    "]\n",
    "model2 = Sequential(feature_layers2 + classification_layers2)\n",
    "model2.summary()"
   ]
  },
  {
   "cell_type": "code",
   "execution_count": 18,
   "metadata": {},
   "outputs": [
    {
     "name": "stdout",
     "output_type": "stream",
     "text": [
      "x_train shape: (30596, 28, 28, 1)\n",
      "30596 train samples\n",
      "5139 test samples\n",
      "Epoch 1/20\n",
      "240/240 [==============================] - 2s 10ms/step - loss: 1.5892 - accuracy: 0.2750 - val_loss: 1.5595 - val_accuracy: 0.4758\n",
      "Epoch 2/20\n",
      "240/240 [==============================] - 2s 10ms/step - loss: 1.5510 - accuracy: 0.3728 - val_loss: 1.5182 - val_accuracy: 0.6678\n",
      "Epoch 3/20\n",
      "240/240 [==============================] - 2s 10ms/step - loss: 1.5101 - accuracy: 0.4636 - val_loss: 1.4730 - val_accuracy: 0.7531\n",
      "Epoch 4/20\n",
      "240/240 [==============================] - 2s 10ms/step - loss: 1.4668 - accuracy: 0.5408 - val_loss: 1.4210 - val_accuracy: 0.7893\n",
      "Epoch 5/20\n",
      "240/240 [==============================] - 2s 10ms/step - loss: 1.4142 - accuracy: 0.6024 - val_loss: 1.3589 - val_accuracy: 0.8144\n",
      "Epoch 6/20\n",
      "240/240 [==============================] - 2s 10ms/step - loss: 1.3550 - accuracy: 0.6544 - val_loss: 1.2865 - val_accuracy: 0.8465\n",
      "Epoch 7/20\n",
      "240/240 [==============================] - 2s 10ms/step - loss: 1.2846 - accuracy: 0.6995 - val_loss: 1.2033 - val_accuracy: 0.8679\n",
      "Epoch 8/20\n",
      "240/240 [==============================] - 2s 10ms/step - loss: 1.2045 - accuracy: 0.7368 - val_loss: 1.1084 - val_accuracy: 0.8836\n",
      "Epoch 9/20\n",
      "240/240 [==============================] - 2s 10ms/step - loss: 1.1147 - accuracy: 0.7671 - val_loss: 1.0052 - val_accuracy: 0.8957\n",
      "Epoch 10/20\n",
      "240/240 [==============================] - 2s 10ms/step - loss: 1.0215 - accuracy: 0.7918 - val_loss: 0.8984 - val_accuracy: 0.9060\n",
      "Epoch 11/20\n",
      "240/240 [==============================] - 2s 10ms/step - loss: 0.9288 - accuracy: 0.8097 - val_loss: 0.7928 - val_accuracy: 0.9138\n",
      "Epoch 12/20\n",
      "240/240 [==============================] - 2s 10ms/step - loss: 0.8379 - accuracy: 0.8235 - val_loss: 0.6949 - val_accuracy: 0.9200\n",
      "Epoch 13/20\n",
      "240/240 [==============================] - 2s 10ms/step - loss: 0.7571 - accuracy: 0.8351 - val_loss: 0.6087 - val_accuracy: 0.9245\n",
      "Epoch 14/20\n",
      "240/240 [==============================] - 2s 10ms/step - loss: 0.6839 - accuracy: 0.8471 - val_loss: 0.5334 - val_accuracy: 0.9309\n",
      "Epoch 15/20\n",
      "240/240 [==============================] - 2s 10ms/step - loss: 0.6206 - accuracy: 0.8567 - val_loss: 0.4709 - val_accuracy: 0.9336\n",
      "Epoch 16/20\n",
      "240/240 [==============================] - 2s 10ms/step - loss: 0.5695 - accuracy: 0.8616 - val_loss: 0.4200 - val_accuracy: 0.9352\n",
      "Epoch 17/20\n",
      "240/240 [==============================] - 2s 10ms/step - loss: 0.5276 - accuracy: 0.8708 - val_loss: 0.3772 - val_accuracy: 0.9375\n",
      "Epoch 18/20\n",
      "240/240 [==============================] - 2s 10ms/step - loss: 0.4887 - accuracy: 0.8747 - val_loss: 0.3411 - val_accuracy: 0.9399\n",
      "Epoch 19/20\n",
      "240/240 [==============================] - 2s 10ms/step - loss: 0.4594 - accuracy: 0.8780 - val_loss: 0.3119 - val_accuracy: 0.9422\n",
      "Epoch 20/20\n",
      "240/240 [==============================] - 2s 10ms/step - loss: 0.4252 - accuracy: 0.8872 - val_loss: 0.2884 - val_accuracy: 0.9440\n",
      "Training time: 0:00:47.335724\n",
      "Test score: 0.2883634865283966\n",
      "Test accuracy: 0.9439579844474792\n"
     ]
    }
   ],
   "source": [
    "# Now, let's train our model on the digits 0,1,2,3,4\n",
    "train_model(model2,\n",
    "            (x_train_lt5, y_train_lt5),\n",
    "            (x_test_lt5, y_test_lt5), num_classes)"
   ]
  },
  {
   "cell_type": "code",
   "execution_count": 19,
   "metadata": {},
   "outputs": [],
   "source": [
    "#Freeze layers\n",
    "for l in feature_layers2:\n",
    "    l.trainable = False"
   ]
  },
  {
   "cell_type": "code",
   "execution_count": 20,
   "metadata": {},
   "outputs": [
    {
     "name": "stdout",
     "output_type": "stream",
     "text": [
      "Model: \"sequential_1\"\n",
      "_________________________________________________________________\n",
      "Layer (type)                 Output Shape              Param #   \n",
      "=================================================================\n",
      "conv2d_2 (Conv2D)            (None, 26, 26, 32)        320       \n",
      "_________________________________________________________________\n",
      "activation_4 (Activation)    (None, 26, 26, 32)        0         \n",
      "_________________________________________________________________\n",
      "conv2d_3 (Conv2D)            (None, 24, 24, 32)        9248      \n",
      "_________________________________________________________________\n",
      "activation_5 (Activation)    (None, 24, 24, 32)        0         \n",
      "_________________________________________________________________\n",
      "max_pooling2d_1 (MaxPooling2 (None, 12, 12, 32)        0         \n",
      "_________________________________________________________________\n",
      "dropout_2 (Dropout)          (None, 12, 12, 32)        0         \n",
      "_________________________________________________________________\n",
      "flatten_1 (Flatten)          (None, 4608)              0         \n",
      "_________________________________________________________________\n",
      "dense_2 (Dense)              (None, 128)               589952    \n",
      "_________________________________________________________________\n",
      "activation_6 (Activation)    (None, 128)               0         \n",
      "_________________________________________________________________\n",
      "dropout_3 (Dropout)          (None, 128)               0         \n",
      "_________________________________________________________________\n",
      "dense_3 (Dense)              (None, 5)                 645       \n",
      "_________________________________________________________________\n",
      "activation_7 (Activation)    (None, 5)                 0         \n",
      "=================================================================\n",
      "Total params: 600,165\n",
      "Trainable params: 590,597\n",
      "Non-trainable params: 9,568\n",
      "_________________________________________________________________\n"
     ]
    }
   ],
   "source": [
    "model2.summary()"
   ]
  },
  {
   "cell_type": "code",
   "execution_count": 21,
   "metadata": {},
   "outputs": [
    {
     "name": "stdout",
     "output_type": "stream",
     "text": [
      "x_train shape: (29404, 28, 28, 1)\n",
      "29404 train samples\n",
      "4861 test samples\n",
      "Epoch 1/20\n",
      "230/230 [==============================] - 1s 6ms/step - loss: 1.9811 - accuracy: 0.3141 - val_loss: 1.7784 - val_accuracy: 0.3567\n",
      "Epoch 2/20\n",
      "230/230 [==============================] - 1s 6ms/step - loss: 1.7929 - accuracy: 0.3320 - val_loss: 1.6030 - val_accuracy: 0.3925\n",
      "Epoch 3/20\n",
      "230/230 [==============================] - 1s 5ms/step - loss: 1.6327 - accuracy: 0.3698 - val_loss: 1.4492 - val_accuracy: 0.4351\n",
      "Epoch 4/20\n",
      "230/230 [==============================] - 1s 5ms/step - loss: 1.5009 - accuracy: 0.4087 - val_loss: 1.3155 - val_accuracy: 0.4911\n",
      "Epoch 5/20\n",
      "230/230 [==============================] - 1s 5ms/step - loss: 1.3906 - accuracy: 0.4502 - val_loss: 1.2016 - val_accuracy: 0.5538\n",
      "Epoch 6/20\n",
      "230/230 [==============================] - 1s 5ms/step - loss: 1.2847 - accuracy: 0.4959 - val_loss: 1.1060 - val_accuracy: 0.6091\n",
      "Epoch 7/20\n",
      "230/230 [==============================] - 1s 6ms/step - loss: 1.1959 - accuracy: 0.5446 - val_loss: 1.0240 - val_accuracy: 0.6599\n",
      "Epoch 8/20\n",
      "230/230 [==============================] - 1s 5ms/step - loss: 1.1251 - accuracy: 0.5820 - val_loss: 0.9534 - val_accuracy: 0.6955\n",
      "Epoch 9/20\n",
      "230/230 [==============================] - 1s 5ms/step - loss: 1.0557 - accuracy: 0.6173 - val_loss: 0.8924 - val_accuracy: 0.7278\n",
      "Epoch 10/20\n",
      "230/230 [==============================] - 1s 5ms/step - loss: 1.0064 - accuracy: 0.6490 - val_loss: 0.8410 - val_accuracy: 0.7525\n",
      "Epoch 11/20\n",
      "230/230 [==============================] - 1s 6ms/step - loss: 0.9605 - accuracy: 0.6678 - val_loss: 0.7963 - val_accuracy: 0.7756\n",
      "Epoch 12/20\n",
      "230/230 [==============================] - 1s 6ms/step - loss: 0.9132 - accuracy: 0.6953 - val_loss: 0.7567 - val_accuracy: 0.7867\n",
      "Epoch 13/20\n",
      "230/230 [==============================] - 1s 6ms/step - loss: 0.8732 - accuracy: 0.7134 - val_loss: 0.7217 - val_accuracy: 0.7978\n",
      "Epoch 14/20\n",
      "230/230 [==============================] - 1s 6ms/step - loss: 0.8423 - accuracy: 0.7263 - val_loss: 0.6905 - val_accuracy: 0.8081\n",
      "Epoch 15/20\n",
      "230/230 [==============================] - 1s 6ms/step - loss: 0.8109 - accuracy: 0.7410 - val_loss: 0.6625 - val_accuracy: 0.8167\n",
      "Epoch 16/20\n",
      "230/230 [==============================] - 1s 6ms/step - loss: 0.7852 - accuracy: 0.7481 - val_loss: 0.6374 - val_accuracy: 0.8274\n",
      "Epoch 17/20\n",
      "230/230 [==============================] - 1s 6ms/step - loss: 0.7559 - accuracy: 0.7625 - val_loss: 0.6147 - val_accuracy: 0.8346\n",
      "Epoch 18/20\n",
      "230/230 [==============================] - 1s 5ms/step - loss: 0.7352 - accuracy: 0.7699 - val_loss: 0.5942 - val_accuracy: 0.8400\n",
      "Epoch 19/20\n",
      "230/230 [==============================] - 1s 5ms/step - loss: 0.7163 - accuracy: 0.7776 - val_loss: 0.5754 - val_accuracy: 0.8459\n",
      "Epoch 20/20\n",
      "230/230 [==============================] - 1s 5ms/step - loss: 0.6981 - accuracy: 0.7840 - val_loss: 0.5583 - val_accuracy: 0.8504\n",
      "Training time: 0:00:25.792270\n",
      "Test score: 0.5582584738731384\n",
      "Test accuracy: 0.8504422903060913\n"
     ]
    }
   ],
   "source": [
    "train_model(model2,\n",
    "            (x_train_gte5, y_train_gte5),\n",
    "            (x_test_gte5, y_test_gte5), num_classes)"
   ]
  },
  {
   "cell_type": "markdown",
   "metadata": {},
   "source": [
    "---\n",
    "### Machine Learning Foundation (C) 2020 IBM Corporation"
   ]
  }
 ],
 "metadata": {
  "kernelspec": {
   "display_name": "Python 3",
   "language": "python",
   "name": "python3"
  },
  "language_info": {
   "codemirror_mode": {
    "name": "ipython",
    "version": 3
   },
   "file_extension": ".py",
   "mimetype": "text/x-python",
   "name": "python",
   "nbconvert_exporter": "python",
   "pygments_lexer": "ipython3",
   "version": "3.6.8"
  }
 },
 "nbformat": 4,
 "nbformat_minor": 4
}
